{
 "cells": [
  {
   "cell_type": "code",
   "execution_count": 12,
   "id": "3bb82da9",
   "metadata": {},
   "outputs": [],
   "source": [
    "import os\n",
    "from pathlib import Path\n",
    "\n",
    "import napari\n",
    "import pandas as pd\n",
    "import tifffile"
   ]
  },
  {
   "cell_type": "code",
   "execution_count": 13,
   "id": "44f846a7",
   "metadata": {},
   "outputs": [
    {
     "data": {
      "text/plain": [
       "'/Users/sarapatti/Desktop/PhD_projects/Llyod_lab/COPD_CO_IMC/scripts'"
      ]
     },
     "execution_count": 13,
     "metadata": {},
     "output_type": "execute_result"
    }
   ],
   "source": [
    "os.getcwd()"
   ]
  },
  {
   "cell_type": "code",
   "execution_count": 14,
   "id": "55b342c4",
   "metadata": {},
   "outputs": [],
   "source": [
    "panel_file = \"../data/panel.csv\"\n",
    "img_file = \"../data/img/E10842_001.tiff\"\n",
    "mask_file = \"../data/masks/E10842_001.tiff\""
   ]
  },
  {
   "cell_type": "code",
   "execution_count": 15,
   "id": "a2d86b8d",
   "metadata": {},
   "outputs": [
    {
     "name": "stdout",
     "output_type": "stream",
     "text": [
      "38 channels\n"
     ]
    }
   ],
   "source": [
    "channel_names = None\n",
    "if Path(panel_file).exists():\n",
    "    panel = pd.read_csv(panel_file)\n",
    "    channel_names = panel.loc[panel[\"keep\"] == 1, \"name\"]\n",
    "    print(len(channel_names), \"channels\")"
   ]
  },
  {
   "cell_type": "code",
   "execution_count": 16,
   "id": "ea6ce9e7",
   "metadata": {},
   "outputs": [
    {
     "name": "stdout",
     "output_type": "stream",
     "text": [
      "Image shape: (38, 846, 618)\n"
     ]
    }
   ],
   "source": [
    "img = None\n",
    "if Path(img_file).exists():\n",
    "    img = tifffile.imread(img_file)\n",
    "    print(\"Image shape:\", img.shape)"
   ]
  },
  {
   "cell_type": "code",
   "execution_count": 17,
   "id": "c929c5ca",
   "metadata": {},
   "outputs": [
    {
     "name": "stdout",
     "output_type": "stream",
     "text": [
      "Mask shape: (846, 618)\n"
     ]
    }
   ],
   "source": [
    "mask = None\n",
    "if Path(mask_file).exists():\n",
    "    mask = tifffile.imread(mask_file)\n",
    "    print(\"Mask shape:\", mask.shape)"
   ]
  },
  {
   "cell_type": "code",
   "execution_count": 18,
   "id": "b4a7697b",
   "metadata": {},
   "outputs": [],
   "source": [
    "viewer = napari.Viewer()\n",
    "\n",
    "viewer.axes.visible = True\n",
    "viewer.dims.axis_labels = (\"y\", \"x\")\n",
    "\n",
    "viewer.scale_bar.visible = True\n",
    "viewer.scale_bar.unit = \"um\"\n",
    "\n",
    "if img is not None:\n",
    "    img_layers = viewer.add_image(\n",
    "        data=img,\n",
    "        channel_axis=0,\n",
    "        colormap=\"gray\",\n",
    "        name=channel_names,\n",
    "        blending=\"additive\",\n",
    "        visible=False,\n",
    "    )\n",
    "\n",
    "if mask is not None:\n",
    "    mask_layer = viewer.add_labels(\n",
    "        data=mask,\n",
    "        name=\"Cells\",\n",
    "        blending=\"translucent\",\n",
    "        visible=False,\n",
    "    )\n"
   ]
  },
  {
   "cell_type": "code",
   "execution_count": 19,
   "id": "16cc9edc",
   "metadata": {},
   "outputs": [
    {
     "ename": "",
     "evalue": "",
     "output_type": "error",
     "traceback": [
      "\u001b[1;31mThe Kernel crashed while executing code in the current cell or a previous cell. \n",
      "\u001b[1;31mPlease review the code in the cell(s) to identify a possible cause of the failure. \n",
      "\u001b[1;31mClick <a href='https://aka.ms/vscodeJupyterKernelCrash'>here</a> for more info. \n",
      "\u001b[1;31mView Jupyter <a href='command:jupyter.viewOutput'>log</a> for further details."
     ]
    }
   ],
   "source": [
    "napari.run()"
   ]
  }
 ],
 "metadata": {
  "kernelspec": {
   "display_name": "Python 3 (ipykernel)",
   "language": "python",
   "name": "python3"
  },
  "language_info": {
   "codemirror_mode": {
    "name": "ipython",
    "version": 3
   },
   "file_extension": ".py",
   "mimetype": "text/x-python",
   "name": "python",
   "nbconvert_exporter": "python",
   "pygments_lexer": "ipython3",
   "version": "3.9.20"
  }
 },
 "nbformat": 4,
 "nbformat_minor": 5
}
